{
 "cells": [
  {
   "cell_type": "code",
   "execution_count": 134,
   "id": "7d551aed-385e-45d1-b7e3-59d934be18b5",
   "metadata": {},
   "outputs": [],
   "source": [
    "import numpy as np\n",
    "from torch.nn import ConvTranspose2d\n",
    "from torch import from_numpy\n",
    "from numpy.testing import assert_array_equal"
   ]
  },
  {
   "cell_type": "code",
   "execution_count": 138,
   "id": "3cf953e9-0c42-46a3-a8c6-c682df64ac22",
   "metadata": {},
   "outputs": [],
   "source": [
    "def assert_equal_own_and_torch(own, torch, input, weight, bias):\n",
    "    torch.weight.data = from_numpy(weight).float()\n",
    "    torch.bias.data = from_numpy(bias).float()\n",
    "    own_result = np.floor(own)\n",
    "    torch_result = np.floor(torch(from_numpy(input).float()).detach().numpy())\n",
    "    #print(np.array(own_result).shape)\n",
    "    #print(np.array(torch_result).shape)\n",
    "    print(\"Мой результат\")\n",
    "    print(own_result)\n",
    "    print(\"Результат библиотеки\")\n",
    "    print(torch_result)\n",
    "    assert_array_equal(own_result, torch_result)"
   ]
  },
  {
   "cell_type": "code",
   "execution_count": 353,
   "id": "87e73aaa-b3a2-4c77-bb0f-91d84ae25da9",
   "metadata": {},
   "outputs": [],
   "source": [
    "def conv2d(input, weight, bias, in_channels, out_channels, kernel_size, stride=1, padding=0, dilation=1,\n",
    "                   bias_enabled=True, padding_mode='zeros',):\n",
    "    out = []\n",
    "   \n",
    "    h_in, w_in = input.shape[1], input.shape[2]\n",
    "    kernel_size = (kernel_size, kernel_size) if not isinstance(kernel_size, tuple) else kernel_size\n",
    "    stride = (stride, stride) if not isinstance(stride, tuple) else stride\n",
    "    dilation = (dilation, dilation) if not isinstance(dilation, tuple) else dilation\n",
    "\n",
    "    padding = padding if isinstance(padding, tuple) else (padding, padding)\n",
    "\n",
    "    h_out = int((h_in + 2 * padding[0] - dilation[0] * (kernel_size[0] - 1) - 1) / stride[0] + 1)\n",
    "    w_out = int((w_in + 2 * padding[1] - dilation[1] * (kernel_size[1] - 1) - 1) / stride[1] + 1)\n",
    "\n",
    "    #out.append(np.zeros((out_channels, h_out, w_out)))\n",
    "    out = np.zeros((1, out_channels, h_out, w_out))\n",
    "    for c_out in range(out_channels):\n",
    "        for y_out in range(h_out):\n",
    "            for x_out in range(w_out):\n",
    "                summation = 0\n",
    "                for c_in in range(in_channels):\n",
    "                    for kernel_y in range(kernel_size[0]):\n",
    "                        for kernel_x in range(kernel_size[1]):\n",
    "                            y_in = y_out * stride[0] + kernel_y * dilation[0] - padding[0]\n",
    "                            x_in = x_out * stride[1] + kernel_x * dilation[1] - padding[1]\n",
    "                            if 0 <= y_in < h_in and 0 <= x_in < w_in:\n",
    "                                summation += input[c_in, y_in, x_in] * weight_data[c_out, c_in, kernel_y, kernel_x]\n",
    "                            elif padding_mode == 'replicate':\n",
    "                                y_in = max(0, min(y_in, h_in - 1))\n",
    "                                x_in = max(0, min(x_in, w_in - 1))\n",
    "                                summation += input[c_in, y_in, x_in] * weight_data[c_out, c_in, kernel_y, kernel_x]\n",
    "                out[0, c_out, y_out, x_out] = summation + (bias[c_out] if bias_enabled else 0)\n",
    "                \n",
    "    return np.array(out)"
   ]
  },
  {
   "cell_type": "code",
   "execution_count": 359,
   "id": "ec284017-0e6e-4535-a708-838be3981f3f",
   "metadata": {},
   "outputs": [
    {
     "name": "stdout",
     "output_type": "stream",
     "text": [
      "Мой результат\n",
      "[[[[ 2.  8. 12. 13.  7.]\n",
      "   [11. 30. 29. 30. 20.]\n",
      "   [16. 40. 36. 31. 19.]\n",
      "   [12. 29. 32. 29. 14.]\n",
      "   [ 5. 11. 13. 15.  8.]]\n",
      "\n",
      "  [[ 2.  8. 12. 13.  7.]\n",
      "   [11. 30. 29. 30. 20.]\n",
      "   [16. 40. 36. 31. 19.]\n",
      "   [12. 29. 32. 29. 14.]\n",
      "   [ 5. 11. 13. 15.  8.]]]]\n",
      "Результат библиотеки\n",
      "[[[[ 2.  8. 12. 13.  7.]\n",
      "   [11. 30. 29. 30. 20.]\n",
      "   [16. 40. 36. 31. 19.]\n",
      "   [12. 29. 32. 29. 14.]\n",
      "   [ 5. 11. 13. 15.  8.]]\n",
      "\n",
      "  [[ 2.  8. 12. 13.  7.]\n",
      "   [11. 30. 29. 30. 20.]\n",
      "   [16. 40. 36. 31. 19.]\n",
      "   [12. 29. 32. 29. 14.]\n",
      "   [ 5. 11. 13. 15.  8.]]]]\n"
     ]
    }
   ],
   "source": [
    "def conv_transpose2d(input, weight, bias, in_channels, out_channels, kernel_size, stride=1, padding=0, dilation=1,\n",
    "                   bias_enabled=True, padding_mode='zeros'):\n",
    "    \n",
    "    batch_size, in_channels, h_in, w_in = input.shape\n",
    "    _, out_channels, _, _ = weight.shape\n",
    "    kernel_size = weight.shape[2]\n",
    "\n",
    "    out_height = (h_in - 1) * stride - 2 * padding + kernel_size\n",
    "    out_width = (w_in - 1) * stride - 2 * padding + kernel_size\n",
    "\n",
    "    output = np.zeros((batch_size, out_channels, out_height, out_width))\n",
    "    weight_flipped = np.flip(np.flip(weight, axis=-1), axis=-2)\n",
    "    \n",
    "    for b in range(batch_size):\n",
    "        for c_out in range(out_channels):\n",
    "            for c_in in range(in_channels):\n",
    "                conv_result = conv2d(input[b, c_in, :, :].reshape(1,h_in,w_in), weight_flipped[b, c_out, :, :].reshape(1,kernel_size,kernel_size), bias, 1, 1, \n",
    "                                     kernel_size, stride, 1, dilation, bias_enabled, padding_mode)\n",
    "\n",
    "                output[b, c_out, :, :] += conv_result.reshape(out_height,out_width)[::stride, ::stride] \n",
    "        \n",
    "    return output\n",
    "\n",
    "channel_1 = [[1, 5, 5, 6], [7, 11, 2, 11], [4, 8, 5, 3], [1, 2, 3, 4]]\n",
    "channel_2 = [[1, 1, 1, 1], [2, 2, 2, 2], [3, 3, 3, 3], [4, 4, 4, 4]]\n",
    "weight_1 = [[1, 1], [1, 1]]\n",
    "weight_2 = [[1, 1], [1, 1]]\n",
    "input_data = np.array([[channel_1, channel_2]])\n",
    "weight_data = np.array([[weight_1, weight_2], [weight_1, weight_2]])\n",
    "bias = np.array([0, 0])\n",
    "\n",
    "result = conv_transpose2d(input_data, weight_data, bias, in_channels=1, out_channels=1, kernel_size=2)\n",
    "\n",
    "torch_result = ConvTranspose2d(in_channels=2, out_channels=2, kernel_size=2, stride=1)\n",
    "assert_equal_own_and_torch(result, torch_result, input_data, weight_data, bias)\n"
   ]
  },
  {
   "cell_type": "code",
   "execution_count": null,
   "id": "c32ec5f9-d4aa-40ef-aeab-e30951c06f0e",
   "metadata": {},
   "outputs": [],
   "source": []
  }
 ],
 "metadata": {
  "kernelspec": {
   "display_name": "Python (GPU-3)",
   "language": "python",
   "name": "py310"
  },
  "language_info": {
   "codemirror_mode": {
    "name": "ipython",
    "version": 3
   },
   "file_extension": ".py",
   "mimetype": "text/x-python",
   "name": "python",
   "nbconvert_exporter": "python",
   "pygments_lexer": "ipython3",
   "version": "3.10.13"
  }
 },
 "nbformat": 4,
 "nbformat_minor": 5
}
